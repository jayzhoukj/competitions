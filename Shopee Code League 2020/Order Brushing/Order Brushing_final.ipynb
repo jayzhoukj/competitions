{
 "cells": [
  {
   "cell_type": "code",
   "execution_count": null,
   "metadata": {},
   "outputs": [],
   "source": [
    "# Read in csv\n",
    "# Clean data sheet\n",
    "# Matching algo"
   ]
  },
  {
   "cell_type": "code",
   "execution_count": 92,
   "metadata": {
    "ExecuteTime": {
     "end_time": "2020-06-13T07:08:04.196603Z",
     "start_time": "2020-06-13T07:08:04.192652Z"
    }
   },
   "outputs": [],
   "source": [
    "# Math, stat and data\n",
    "import pandas as pd\n",
    "import numpy as np\n",
    "import datetime\n",
    "from tqdm.notebook import tqdm"
   ]
  },
  {
   "cell_type": "markdown",
   "metadata": {},
   "source": [
    "## Data Exploration"
   ]
  },
  {
   "cell_type": "markdown",
   "metadata": {},
   "source": [
    "###### Concentrate Rate = Number of orders within 1 hour / Number of Unique Buyers within 1 hour"
   ]
  },
  {
   "cell_type": "code",
   "execution_count": 6,
   "metadata": {
    "ExecuteTime": {
     "end_time": "2020-06-13T06:19:26.053226Z",
     "start_time": "2020-06-13T06:19:25.655455Z"
    }
   },
   "outputs": [],
   "source": [
    "base = pd.read_csv('order_brush_order.csv')"
   ]
  },
  {
   "cell_type": "code",
   "execution_count": 29,
   "metadata": {
    "ExecuteTime": {
     "end_time": "2020-06-13T06:31:56.358742Z",
     "start_time": "2020-06-13T06:31:56.326292Z"
    }
   },
   "outputs": [],
   "source": [
    "data_set = base\n",
    "data_set['event_time'] = pd.to_datetime(base['event_time'])\n",
    "data_set['shopid'] = pd.to_numeric(base['shopid'])\n",
    "data_set['userid'] = pd.to_numeric(base['userid'])"
   ]
  },
  {
   "cell_type": "code",
   "execution_count": 63,
   "metadata": {
    "ExecuteTime": {
     "end_time": "2020-06-13T06:46:53.763410Z",
     "start_time": "2020-06-13T06:46:53.501218Z"
    }
   },
   "outputs": [],
   "source": [
    "ordered_data = data_set.sort_values(['shopid','event_time'], ascending = (True))"
   ]
  },
  {
   "cell_type": "code",
   "execution_count": 64,
   "metadata": {
    "ExecuteTime": {
     "end_time": "2020-06-13T06:46:54.938675Z",
     "start_time": "2020-06-13T06:46:54.897367Z"
    }
   },
   "outputs": [],
   "source": [
    "ordered_data = ordered_data.reset_index()\n",
    "ordered_data = ordered_data.drop(['index'], axis = 1)"
   ]
  },
  {
   "cell_type": "code",
   "execution_count": 65,
   "metadata": {
    "ExecuteTime": {
     "end_time": "2020-06-13T06:46:55.824197Z",
     "start_time": "2020-06-13T06:46:55.813648Z"
    }
   },
   "outputs": [],
   "source": [
    "ordered_data['buyers_in_next_hour'] = ''"
   ]
  },
  {
   "cell_type": "code",
   "execution_count": 66,
   "metadata": {
    "ExecuteTime": {
     "end_time": "2020-06-13T06:47:43.813151Z",
     "start_time": "2020-06-13T06:47:43.803020Z"
    }
   },
   "outputs": [],
   "source": [
    "ordered_data['no_orders_in_next_hour'] = 1"
   ]
  },
  {
   "cell_type": "code",
   "execution_count": 93,
   "metadata": {
    "ExecuteTime": {
     "end_time": "2020-06-13T07:19:47.300712Z",
     "start_time": "2020-06-13T07:08:51.970553Z"
    }
   },
   "outputs": [
    {
     "data": {
      "application/vnd.jupyter.widget-view+json": {
       "model_id": "85361da0527e4ea3927614cc40341954",
       "version_major": 2,
       "version_minor": 0
      },
      "text/plain": [
       "HBox(children=(FloatProgress(value=0.0, max=222750.0), HTML(value='')))"
      ]
     },
     "metadata": {},
     "output_type": "display_data"
    },
    {
     "name": "stdout",
     "output_type": "stream",
     "text": [
      "\n"
     ]
    }
   ],
   "source": [
    "one_hour = datetime.timedelta(hours = 1)\n",
    "\n",
    "for i in tqdm(range(len(ordered_data))):\n",
    "    current_id = ordered_data['shopid'][i]\n",
    "    buyers = [ordered_data['userid'][i]]\n",
    "    start_time = ordered_data['event_time'][i]\n",
    "    \n",
    "    for j in range(i+1,len(ordered_data)):\n",
    "        if current_id == ordered_data['shopid'][j]:\n",
    "            if (ordered_data['event_time'][j] - start_time) < one_hour:\n",
    "                buyers.append(ordered_data['userid'][j])\n",
    "            else:\n",
    "                break\n",
    "        else:\n",
    "            break\n",
    "            \n",
    "    ordered_data['buyers_in_next_hour'][i] = buyers"
   ]
  },
  {
   "cell_type": "code",
   "execution_count": 172,
   "metadata": {
    "ExecuteTime": {
     "end_time": "2020-06-13T07:55:03.522115Z",
     "start_time": "2020-06-13T07:55:03.497178Z"
    }
   },
   "outputs": [
    {
     "data": {
      "text/html": [
       "<div>\n",
       "<style scoped>\n",
       "    .dataframe tbody tr th:only-of-type {\n",
       "        vertical-align: middle;\n",
       "    }\n",
       "\n",
       "    .dataframe tbody tr th {\n",
       "        vertical-align: top;\n",
       "    }\n",
       "\n",
       "    .dataframe thead th {\n",
       "        text-align: right;\n",
       "    }\n",
       "</style>\n",
       "<table border=\"1\" class=\"dataframe\">\n",
       "  <thead>\n",
       "    <tr style=\"text-align: right;\">\n",
       "      <th></th>\n",
       "      <th>orderid</th>\n",
       "      <th>shopid</th>\n",
       "      <th>userid</th>\n",
       "      <th>event_time</th>\n",
       "      <th>buyers_in_next_hour</th>\n",
       "      <th>no_orders_in_next_hour</th>\n",
       "    </tr>\n",
       "  </thead>\n",
       "  <tbody>\n",
       "    <tr>\n",
       "      <th>0</th>\n",
       "      <td>31086409141107</td>\n",
       "      <td>10009</td>\n",
       "      <td>196962305</td>\n",
       "      <td>2019-12-27 03:06:50</td>\n",
       "      <td>[196962305]</td>\n",
       "      <td>1</td>\n",
       "    </tr>\n",
       "    <tr>\n",
       "      <th>1</th>\n",
       "      <td>31144571933461</td>\n",
       "      <td>10051</td>\n",
       "      <td>2854032</td>\n",
       "      <td>2019-12-27 19:16:11</td>\n",
       "      <td>[2854032]</td>\n",
       "      <td>1</td>\n",
       "    </tr>\n",
       "    <tr>\n",
       "      <th>2</th>\n",
       "      <td>31254979546679</td>\n",
       "      <td>10051</td>\n",
       "      <td>48600461</td>\n",
       "      <td>2019-12-29 01:56:19</td>\n",
       "      <td>[48600461]</td>\n",
       "      <td>1</td>\n",
       "    </tr>\n",
       "    <tr>\n",
       "      <th>3</th>\n",
       "      <td>31195675919209</td>\n",
       "      <td>10061</td>\n",
       "      <td>168750452</td>\n",
       "      <td>2019-12-28 09:27:55</td>\n",
       "      <td>[168750452]</td>\n",
       "      <td>1</td>\n",
       "    </tr>\n",
       "    <tr>\n",
       "      <th>4</th>\n",
       "      <td>31205132327893</td>\n",
       "      <td>10061</td>\n",
       "      <td>194819216</td>\n",
       "      <td>2019-12-28 12:05:32</td>\n",
       "      <td>[194819216]</td>\n",
       "      <td>1</td>\n",
       "    </tr>\n",
       "    <tr>\n",
       "      <th>...</th>\n",
       "      <td>...</td>\n",
       "      <td>...</td>\n",
       "      <td>...</td>\n",
       "      <td>...</td>\n",
       "      <td>...</td>\n",
       "      <td>...</td>\n",
       "    </tr>\n",
       "    <tr>\n",
       "      <th>222745</th>\n",
       "      <td>31493203163305</td>\n",
       "      <td>214949521</td>\n",
       "      <td>46269178</td>\n",
       "      <td>2019-12-31 20:06:43</td>\n",
       "      <td>[46269178]</td>\n",
       "      <td>1</td>\n",
       "    </tr>\n",
       "    <tr>\n",
       "      <th>222746</th>\n",
       "      <td>31328775676314</td>\n",
       "      <td>214964814</td>\n",
       "      <td>200983383</td>\n",
       "      <td>2019-12-29 22:26:16</td>\n",
       "      <td>[200983383]</td>\n",
       "      <td>1</td>\n",
       "    </tr>\n",
       "    <tr>\n",
       "      <th>222747</th>\n",
       "      <td>31453591917585</td>\n",
       "      <td>215175775</td>\n",
       "      <td>13688804</td>\n",
       "      <td>2019-12-31 09:06:31</td>\n",
       "      <td>[13688804]</td>\n",
       "      <td>1</td>\n",
       "    </tr>\n",
       "    <tr>\n",
       "      <th>222748</th>\n",
       "      <td>31472077221692</td>\n",
       "      <td>215175775</td>\n",
       "      <td>129266028</td>\n",
       "      <td>2019-12-31 14:14:37</td>\n",
       "      <td>[129266028]</td>\n",
       "      <td>1</td>\n",
       "    </tr>\n",
       "    <tr>\n",
       "      <th>222749</th>\n",
       "      <td>31487696848532</td>\n",
       "      <td>215435223</td>\n",
       "      <td>79515106</td>\n",
       "      <td>2019-12-31 18:34:56</td>\n",
       "      <td>[79515106]</td>\n",
       "      <td>1</td>\n",
       "    </tr>\n",
       "  </tbody>\n",
       "</table>\n",
       "<p>222750 rows × 6 columns</p>\n",
       "</div>"
      ],
      "text/plain": [
       "               orderid     shopid     userid          event_time  \\\n",
       "0       31086409141107      10009  196962305 2019-12-27 03:06:50   \n",
       "1       31144571933461      10051    2854032 2019-12-27 19:16:11   \n",
       "2       31254979546679      10051   48600461 2019-12-29 01:56:19   \n",
       "3       31195675919209      10061  168750452 2019-12-28 09:27:55   \n",
       "4       31205132327893      10061  194819216 2019-12-28 12:05:32   \n",
       "...                ...        ...        ...                 ...   \n",
       "222745  31493203163305  214949521   46269178 2019-12-31 20:06:43   \n",
       "222746  31328775676314  214964814  200983383 2019-12-29 22:26:16   \n",
       "222747  31453591917585  215175775   13688804 2019-12-31 09:06:31   \n",
       "222748  31472077221692  215175775  129266028 2019-12-31 14:14:37   \n",
       "222749  31487696848532  215435223   79515106 2019-12-31 18:34:56   \n",
       "\n",
       "       buyers_in_next_hour  no_orders_in_next_hour  \n",
       "0              [196962305]                       1  \n",
       "1                [2854032]                       1  \n",
       "2               [48600461]                       1  \n",
       "3              [168750452]                       1  \n",
       "4              [194819216]                       1  \n",
       "...                    ...                     ...  \n",
       "222745          [46269178]                       1  \n",
       "222746         [200983383]                       1  \n",
       "222747          [13688804]                       1  \n",
       "222748         [129266028]                       1  \n",
       "222749          [79515106]                       1  \n",
       "\n",
       "[222750 rows x 6 columns]"
      ]
     },
     "execution_count": 172,
     "metadata": {},
     "output_type": "execute_result"
    }
   ],
   "source": [
    "ordered_data"
   ]
  },
  {
   "cell_type": "code",
   "execution_count": 189,
   "metadata": {
    "ExecuteTime": {
     "end_time": "2020-06-13T07:59:29.250196Z",
     "start_time": "2020-06-13T07:59:29.216101Z"
    }
   },
   "outputs": [],
   "source": [
    "ordered_data = completed_data.copy()"
   ]
  },
  {
   "cell_type": "code",
   "execution_count": 234,
   "metadata": {
    "ExecuteTime": {
     "end_time": "2020-06-13T08:18:42.019808Z",
     "start_time": "2020-06-13T08:18:42.013821Z"
    }
   },
   "outputs": [],
   "source": [
    "def calc_no_buyers(row):\n",
    "    return len(row['buyers_in_next_hour'])\n",
    "\n",
    "def unique_buyers(row):\n",
    "    return np.unique(row['buyers_in_next_hour'])\n",
    "\n",
    "def no_unique_buyers(row):\n",
    "    return len(row['unique_buyers_in_next_hour'])\n",
    "\n",
    "def culprit(row):\n",
    "    if row['order_brush'] == 1:\n",
    "        return max(set(row['buyers_in_next_hour']), key = row['buyers_in_next_hour'].count)\n",
    "    else:\n",
    "        return -1"
   ]
  },
  {
   "cell_type": "code",
   "execution_count": 175,
   "metadata": {
    "ExecuteTime": {
     "end_time": "2020-06-13T07:56:03.205331Z",
     "start_time": "2020-06-13T07:55:12.879220Z"
    }
   },
   "outputs": [],
   "source": [
    "completed_data['no_orders_in_next_hour'] = completed_data.apply(calc_no_buyers, axis = 1)\n",
    "completed_data['unique_buyers_in_next_hour'] = completed_data.apply(unique_buyers, axis = 1)\n",
    "completed_data['no_unique_buyers_in_next_hour'] = completed_data.apply(no_unique_buyers, axis = 1)\n",
    "completed_data['concentrate_rate'] = completed_data['no_orders_in_next_hour']/completed_data['no_unique_buyers_in_next_hour']\n",
    "completed_data['order_brush'] = (completed_data['concentrate_rate'] >= 3).astype(int)"
   ]
  },
  {
   "cell_type": "code",
   "execution_count": 235,
   "metadata": {
    "ExecuteTime": {
     "end_time": "2020-06-13T08:18:56.639334Z",
     "start_time": "2020-06-13T08:18:52.384557Z"
    }
   },
   "outputs": [],
   "source": [
    "completed_data['culprit'] = completed_data.apply(culprit, axis = 1)"
   ]
  },
  {
   "cell_type": "code",
   "execution_count": 284,
   "metadata": {
    "ExecuteTime": {
     "end_time": "2020-06-13T08:40:06.752076Z",
     "start_time": "2020-06-13T08:40:06.711186Z"
    }
   },
   "outputs": [
    {
     "data": {
      "text/html": [
       "<div>\n",
       "<style scoped>\n",
       "    .dataframe tbody tr th:only-of-type {\n",
       "        vertical-align: middle;\n",
       "    }\n",
       "\n",
       "    .dataframe tbody tr th {\n",
       "        vertical-align: top;\n",
       "    }\n",
       "\n",
       "    .dataframe thead th {\n",
       "        text-align: right;\n",
       "    }\n",
       "</style>\n",
       "<table border=\"1\" class=\"dataframe\">\n",
       "  <thead>\n",
       "    <tr style=\"text-align: right;\">\n",
       "      <th></th>\n",
       "      <th>orderid</th>\n",
       "      <th>shopid</th>\n",
       "      <th>userid</th>\n",
       "      <th>event_time</th>\n",
       "      <th>buyers_in_next_hour</th>\n",
       "      <th>no_orders_in_next_hour</th>\n",
       "      <th>unique_buyers_in_next_hour</th>\n",
       "      <th>no_unique_buyers_in_next_hour</th>\n",
       "      <th>culprit</th>\n",
       "      <th>concentrate_rate</th>\n",
       "      <th>order_brush</th>\n",
       "    </tr>\n",
       "  </thead>\n",
       "  <tbody>\n",
       "    <tr>\n",
       "      <th>0</th>\n",
       "      <td>31086409141107</td>\n",
       "      <td>10009</td>\n",
       "      <td>196962305</td>\n",
       "      <td>2019-12-27 03:06:50</td>\n",
       "      <td>[196962305]</td>\n",
       "      <td>1</td>\n",
       "      <td>[196962305]</td>\n",
       "      <td>1</td>\n",
       "      <td>-1</td>\n",
       "      <td>1.0</td>\n",
       "      <td>0</td>\n",
       "    </tr>\n",
       "    <tr>\n",
       "      <th>1</th>\n",
       "      <td>31144571933461</td>\n",
       "      <td>10051</td>\n",
       "      <td>2854032</td>\n",
       "      <td>2019-12-27 19:16:11</td>\n",
       "      <td>[2854032]</td>\n",
       "      <td>1</td>\n",
       "      <td>[2854032]</td>\n",
       "      <td>1</td>\n",
       "      <td>-1</td>\n",
       "      <td>1.0</td>\n",
       "      <td>0</td>\n",
       "    </tr>\n",
       "    <tr>\n",
       "      <th>2</th>\n",
       "      <td>31254979546679</td>\n",
       "      <td>10051</td>\n",
       "      <td>48600461</td>\n",
       "      <td>2019-12-29 01:56:19</td>\n",
       "      <td>[48600461]</td>\n",
       "      <td>1</td>\n",
       "      <td>[48600461]</td>\n",
       "      <td>1</td>\n",
       "      <td>-1</td>\n",
       "      <td>1.0</td>\n",
       "      <td>0</td>\n",
       "    </tr>\n",
       "    <tr>\n",
       "      <th>3</th>\n",
       "      <td>31195675919209</td>\n",
       "      <td>10061</td>\n",
       "      <td>168750452</td>\n",
       "      <td>2019-12-28 09:27:55</td>\n",
       "      <td>[168750452]</td>\n",
       "      <td>1</td>\n",
       "      <td>[168750452]</td>\n",
       "      <td>1</td>\n",
       "      <td>-1</td>\n",
       "      <td>1.0</td>\n",
       "      <td>0</td>\n",
       "    </tr>\n",
       "    <tr>\n",
       "      <th>4</th>\n",
       "      <td>31205132327893</td>\n",
       "      <td>10061</td>\n",
       "      <td>194819216</td>\n",
       "      <td>2019-12-28 12:05:32</td>\n",
       "      <td>[194819216]</td>\n",
       "      <td>1</td>\n",
       "      <td>[194819216]</td>\n",
       "      <td>1</td>\n",
       "      <td>-1</td>\n",
       "      <td>1.0</td>\n",
       "      <td>0</td>\n",
       "    </tr>\n",
       "    <tr>\n",
       "      <th>...</th>\n",
       "      <td>...</td>\n",
       "      <td>...</td>\n",
       "      <td>...</td>\n",
       "      <td>...</td>\n",
       "      <td>...</td>\n",
       "      <td>...</td>\n",
       "      <td>...</td>\n",
       "      <td>...</td>\n",
       "      <td>...</td>\n",
       "      <td>...</td>\n",
       "      <td>...</td>\n",
       "    </tr>\n",
       "    <tr>\n",
       "      <th>222745</th>\n",
       "      <td>31493203163305</td>\n",
       "      <td>214949521</td>\n",
       "      <td>46269178</td>\n",
       "      <td>2019-12-31 20:06:43</td>\n",
       "      <td>[46269178]</td>\n",
       "      <td>1</td>\n",
       "      <td>[46269178]</td>\n",
       "      <td>1</td>\n",
       "      <td>-1</td>\n",
       "      <td>1.0</td>\n",
       "      <td>0</td>\n",
       "    </tr>\n",
       "    <tr>\n",
       "      <th>222746</th>\n",
       "      <td>31328775676314</td>\n",
       "      <td>214964814</td>\n",
       "      <td>200983383</td>\n",
       "      <td>2019-12-29 22:26:16</td>\n",
       "      <td>[200983383]</td>\n",
       "      <td>1</td>\n",
       "      <td>[200983383]</td>\n",
       "      <td>1</td>\n",
       "      <td>-1</td>\n",
       "      <td>1.0</td>\n",
       "      <td>0</td>\n",
       "    </tr>\n",
       "    <tr>\n",
       "      <th>222747</th>\n",
       "      <td>31453591917585</td>\n",
       "      <td>215175775</td>\n",
       "      <td>13688804</td>\n",
       "      <td>2019-12-31 09:06:31</td>\n",
       "      <td>[13688804]</td>\n",
       "      <td>1</td>\n",
       "      <td>[13688804]</td>\n",
       "      <td>1</td>\n",
       "      <td>-1</td>\n",
       "      <td>1.0</td>\n",
       "      <td>0</td>\n",
       "    </tr>\n",
       "    <tr>\n",
       "      <th>222748</th>\n",
       "      <td>31472077221692</td>\n",
       "      <td>215175775</td>\n",
       "      <td>129266028</td>\n",
       "      <td>2019-12-31 14:14:37</td>\n",
       "      <td>[129266028]</td>\n",
       "      <td>1</td>\n",
       "      <td>[129266028]</td>\n",
       "      <td>1</td>\n",
       "      <td>-1</td>\n",
       "      <td>1.0</td>\n",
       "      <td>0</td>\n",
       "    </tr>\n",
       "    <tr>\n",
       "      <th>222749</th>\n",
       "      <td>31487696848532</td>\n",
       "      <td>215435223</td>\n",
       "      <td>79515106</td>\n",
       "      <td>2019-12-31 18:34:56</td>\n",
       "      <td>[79515106]</td>\n",
       "      <td>1</td>\n",
       "      <td>[79515106]</td>\n",
       "      <td>1</td>\n",
       "      <td>-1</td>\n",
       "      <td>1.0</td>\n",
       "      <td>0</td>\n",
       "    </tr>\n",
       "  </tbody>\n",
       "</table>\n",
       "<p>222750 rows × 11 columns</p>\n",
       "</div>"
      ],
      "text/plain": [
       "               orderid     shopid     userid          event_time  \\\n",
       "0       31086409141107      10009  196962305 2019-12-27 03:06:50   \n",
       "1       31144571933461      10051    2854032 2019-12-27 19:16:11   \n",
       "2       31254979546679      10051   48600461 2019-12-29 01:56:19   \n",
       "3       31195675919209      10061  168750452 2019-12-28 09:27:55   \n",
       "4       31205132327893      10061  194819216 2019-12-28 12:05:32   \n",
       "...                ...        ...        ...                 ...   \n",
       "222745  31493203163305  214949521   46269178 2019-12-31 20:06:43   \n",
       "222746  31328775676314  214964814  200983383 2019-12-29 22:26:16   \n",
       "222747  31453591917585  215175775   13688804 2019-12-31 09:06:31   \n",
       "222748  31472077221692  215175775  129266028 2019-12-31 14:14:37   \n",
       "222749  31487696848532  215435223   79515106 2019-12-31 18:34:56   \n",
       "\n",
       "       buyers_in_next_hour  no_orders_in_next_hour unique_buyers_in_next_hour  \\\n",
       "0              [196962305]                       1                [196962305]   \n",
       "1                [2854032]                       1                  [2854032]   \n",
       "2               [48600461]                       1                 [48600461]   \n",
       "3              [168750452]                       1                [168750452]   \n",
       "4              [194819216]                       1                [194819216]   \n",
       "...                    ...                     ...                        ...   \n",
       "222745          [46269178]                       1                 [46269178]   \n",
       "222746         [200983383]                       1                [200983383]   \n",
       "222747          [13688804]                       1                 [13688804]   \n",
       "222748         [129266028]                       1                [129266028]   \n",
       "222749          [79515106]                       1                 [79515106]   \n",
       "\n",
       "        no_unique_buyers_in_next_hour  culprit  concentrate_rate  order_brush  \n",
       "0                                   1       -1               1.0            0  \n",
       "1                                   1       -1               1.0            0  \n",
       "2                                   1       -1               1.0            0  \n",
       "3                                   1       -1               1.0            0  \n",
       "4                                   1       -1               1.0            0  \n",
       "...                               ...      ...               ...          ...  \n",
       "222745                              1       -1               1.0            0  \n",
       "222746                              1       -1               1.0            0  \n",
       "222747                              1       -1               1.0            0  \n",
       "222748                              1       -1               1.0            0  \n",
       "222749                              1       -1               1.0            0  \n",
       "\n",
       "[222750 rows x 11 columns]"
      ]
     },
     "execution_count": 284,
     "metadata": {},
     "output_type": "execute_result"
    }
   ],
   "source": [
    "completed_data"
   ]
  },
  {
   "cell_type": "code",
   "execution_count": 237,
   "metadata": {
    "ExecuteTime": {
     "end_time": "2020-06-13T08:19:07.788510Z",
     "start_time": "2020-06-13T08:19:07.640686Z"
    }
   },
   "outputs": [],
   "source": [
    "df = completed_data.copy()\n",
    "df['culprit'] = df['culprit'].astype(str)"
   ]
  },
  {
   "cell_type": "code",
   "execution_count": 238,
   "metadata": {
    "ExecuteTime": {
     "end_time": "2020-06-13T08:19:18.832855Z",
     "start_time": "2020-06-13T08:19:12.806471Z"
    }
   },
   "outputs": [],
   "source": [
    "df['culprit'] = df[['shopid','culprit']].groupby(['shopid'])['culprit'].transform(lambda x: '&'.join(x))\n",
    "\n",
    "# df_temp = df[['shopid','culprit']].groupby(['shopid'])['culprit']\n",
    "# def concat(data):\n",
    "#     return '&'.join(data)\n",
    "# df['culprit'] = df_temp['culprit'].apply(concat)\n",
    "\n",
    "submission = df[['shopid','culprit']].drop_duplicates()"
   ]
  },
  {
   "cell_type": "code",
   "execution_count": 241,
   "metadata": {
    "ExecuteTime": {
     "end_time": "2020-06-13T08:19:58.851113Z",
     "start_time": "2020-06-13T08:19:58.844065Z"
    }
   },
   "outputs": [],
   "source": [
    "def replacer(row):\n",
    "    return row['culprit'].replace(\"-1&\",\"\")\n",
    "\n",
    "def replacer2(row):\n",
    "    return row['userid_1'].replace(\"-1\",\"\")"
   ]
  },
  {
   "cell_type": "code",
   "execution_count": 242,
   "metadata": {
    "ExecuteTime": {
     "end_time": "2020-06-13T08:20:01.325508Z",
     "start_time": "2020-06-13T08:20:00.824253Z"
    }
   },
   "outputs": [],
   "source": [
    "submission['userid_1'] = submission.apply(replacer, axis = 1)\n",
    "submission['userid'] = submission.apply(replacer2, axis = 1)"
   ]
  },
  {
   "cell_type": "code",
   "execution_count": 278,
   "metadata": {
    "ExecuteTime": {
     "end_time": "2020-06-13T08:27:58.089577Z",
     "start_time": "2020-06-13T08:27:58.078570Z"
    }
   },
   "outputs": [],
   "source": [
    "final = submission.drop(['culprit', 'userid_1'], axis = 1)\n",
    "final = final.reset_index()"
   ]
  },
  {
   "cell_type": "code",
   "execution_count": 279,
   "metadata": {
    "ExecuteTime": {
     "end_time": "2020-06-13T08:27:59.594135Z",
     "start_time": "2020-06-13T08:27:59.589148Z"
    }
   },
   "outputs": [],
   "source": [
    "def right_strip(row):\n",
    "    return row['userid'].rstrip('&')"
   ]
  },
  {
   "cell_type": "code",
   "execution_count": 280,
   "metadata": {
    "ExecuteTime": {
     "end_time": "2020-06-13T08:28:01.159341Z",
     "start_time": "2020-06-13T08:28:00.855920Z"
    }
   },
   "outputs": [],
   "source": [
    "final['userid'] = final.apply(right_strip, axis = 1)"
   ]
  },
  {
   "cell_type": "code",
   "execution_count": 281,
   "metadata": {
    "ExecuteTime": {
     "end_time": "2020-06-13T08:28:07.540356Z",
     "start_time": "2020-06-13T08:28:04.853971Z"
    }
   },
   "outputs": [
    {
     "data": {
      "application/vnd.jupyter.widget-view+json": {
       "model_id": "8765125c43c243a1a5bfd0556134f517",
       "version_major": 2,
       "version_minor": 0
      },
      "text/plain": [
       "HBox(children=(FloatProgress(value=0.0, max=18770.0), HTML(value='')))"
      ]
     },
     "metadata": {},
     "output_type": "display_data"
    },
    {
     "name": "stdout",
     "output_type": "stream",
     "text": [
      "\n"
     ]
    }
   ],
   "source": [
    "for i in tqdm(range(len(final))):\n",
    "    if final['userid'][i] == \"\":\n",
    "        final['userid'][i] = \"0\""
   ]
  },
  {
   "cell_type": "code",
   "execution_count": 282,
   "metadata": {
    "ExecuteTime": {
     "end_time": "2020-06-13T08:28:12.832293Z",
     "start_time": "2020-06-13T08:28:12.819286Z"
    }
   },
   "outputs": [
    {
     "data": {
      "text/html": [
       "<div>\n",
       "<style scoped>\n",
       "    .dataframe tbody tr th:only-of-type {\n",
       "        vertical-align: middle;\n",
       "    }\n",
       "\n",
       "    .dataframe tbody tr th {\n",
       "        vertical-align: top;\n",
       "    }\n",
       "\n",
       "    .dataframe thead th {\n",
       "        text-align: right;\n",
       "    }\n",
       "</style>\n",
       "<table border=\"1\" class=\"dataframe\">\n",
       "  <thead>\n",
       "    <tr style=\"text-align: right;\">\n",
       "      <th></th>\n",
       "      <th>index</th>\n",
       "      <th>shopid</th>\n",
       "      <th>userid</th>\n",
       "    </tr>\n",
       "  </thead>\n",
       "  <tbody>\n",
       "    <tr>\n",
       "      <th>0</th>\n",
       "      <td>0</td>\n",
       "      <td>10009</td>\n",
       "      <td>0</td>\n",
       "    </tr>\n",
       "    <tr>\n",
       "      <th>1</th>\n",
       "      <td>1</td>\n",
       "      <td>10051</td>\n",
       "      <td>0</td>\n",
       "    </tr>\n",
       "    <tr>\n",
       "      <th>2</th>\n",
       "      <td>3</td>\n",
       "      <td>10061</td>\n",
       "      <td>0</td>\n",
       "    </tr>\n",
       "    <tr>\n",
       "      <th>3</th>\n",
       "      <td>7</td>\n",
       "      <td>10084</td>\n",
       "      <td>0</td>\n",
       "    </tr>\n",
       "    <tr>\n",
       "      <th>4</th>\n",
       "      <td>62</td>\n",
       "      <td>10100</td>\n",
       "      <td>0</td>\n",
       "    </tr>\n",
       "    <tr>\n",
       "      <th>...</th>\n",
       "      <td>...</td>\n",
       "      <td>...</td>\n",
       "      <td>...</td>\n",
       "    </tr>\n",
       "    <tr>\n",
       "      <th>18765</th>\n",
       "      <td>222743</td>\n",
       "      <td>214662358</td>\n",
       "      <td>0</td>\n",
       "    </tr>\n",
       "    <tr>\n",
       "      <th>18766</th>\n",
       "      <td>222744</td>\n",
       "      <td>214949521</td>\n",
       "      <td>0</td>\n",
       "    </tr>\n",
       "    <tr>\n",
       "      <th>18767</th>\n",
       "      <td>222746</td>\n",
       "      <td>214964814</td>\n",
       "      <td>0</td>\n",
       "    </tr>\n",
       "    <tr>\n",
       "      <th>18768</th>\n",
       "      <td>222747</td>\n",
       "      <td>215175775</td>\n",
       "      <td>0</td>\n",
       "    </tr>\n",
       "    <tr>\n",
       "      <th>18769</th>\n",
       "      <td>222749</td>\n",
       "      <td>215435223</td>\n",
       "      <td>0</td>\n",
       "    </tr>\n",
       "  </tbody>\n",
       "</table>\n",
       "<p>18770 rows × 3 columns</p>\n",
       "</div>"
      ],
      "text/plain": [
       "        index     shopid userid\n",
       "0           0      10009      0\n",
       "1           1      10051      0\n",
       "2           3      10061      0\n",
       "3           7      10084      0\n",
       "4          62      10100      0\n",
       "...       ...        ...    ...\n",
       "18765  222743  214662358      0\n",
       "18766  222744  214949521      0\n",
       "18767  222746  214964814      0\n",
       "18768  222747  215175775      0\n",
       "18769  222749  215435223      0\n",
       "\n",
       "[18770 rows x 3 columns]"
      ]
     },
     "execution_count": 282,
     "metadata": {},
     "output_type": "execute_result"
    }
   ],
   "source": [
    "final"
   ]
  },
  {
   "cell_type": "code",
   "execution_count": 283,
   "metadata": {
    "ExecuteTime": {
     "end_time": "2020-06-13T08:28:14.827274Z",
     "start_time": "2020-06-13T08:28:14.791372Z"
    }
   },
   "outputs": [],
   "source": [
    "final.to_csv('Lets_go_Makan_3.csv', index = False)"
   ]
  }
 ],
 "metadata": {
  "kernelspec": {
   "display_name": "Python 3",
   "language": "python",
   "name": "python3"
  },
  "language_info": {
   "codemirror_mode": {
    "name": "ipython",
    "version": 3
   },
   "file_extension": ".py",
   "mimetype": "text/x-python",
   "name": "python",
   "nbconvert_exporter": "python",
   "pygments_lexer": "ipython3",
   "version": "3.7.6"
  },
  "toc": {
   "base_numbering": 1,
   "nav_menu": {},
   "number_sections": true,
   "sideBar": true,
   "skip_h1_title": false,
   "title_cell": "Table of Contents",
   "title_sidebar": "Contents",
   "toc_cell": false,
   "toc_position": {},
   "toc_section_display": true,
   "toc_window_display": false
  }
 },
 "nbformat": 4,
 "nbformat_minor": 4
}
