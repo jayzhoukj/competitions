{
 "cells": [
  {
   "cell_type": "markdown",
   "metadata": {},
   "source": [
    "# Shopee Marketing Analytics\n",
    "Past kaggle competitions have shown that tabular data requires alot of data analysis and feature extraction to produce good results. They usually are an ensemble of gradient boosting techniques."
   ]
  },
  {
   "cell_type": "code",
   "execution_count": 1,
   "metadata": {
    "_cell_guid": "b1076dfc-b9ad-4769-8c92-a6c4dae69d19",
    "_uuid": "8f2839f25d086af736a60e9eeb907d3b93b6e0e5"
   },
   "outputs": [
    {
     "name": "stdout",
     "output_type": "stream",
     "text": [
      "/kaggle/input/student-shopee-code-league-marketing-analytics/users.csv\n",
      "/kaggle/input/student-shopee-code-league-marketing-analytics/test.csv\n",
      "/kaggle/input/student-shopee-code-league-marketing-analytics/sample_submission_0_1.csv\n",
      "/kaggle/input/student-shopee-code-league-marketing-analytics/train.csv\n"
     ]
    }
   ],
   "source": [
    "import math\n",
    "import os\n",
    "import time\n",
    "\n",
    "import numpy as np \n",
    "import pandas as pd\n",
    "import seaborn as sns\n",
    "import matplotlib.pyplot as plt\n",
    "\n",
    "from sklearn.preprocessing import OneHotEncoder\n",
    "from sklearn.model_selection import train_test_split\n",
    "from sklearn.ensemble import RandomForestClassifier, GradientBoostingClassifier\n",
    "from sklearn.feature_selection import SelectFromModel\n",
    "from sklearn.metrics import accuracy_score, confusion_matrix, classification_report, roc_auc_score, f1_score, recall_score, precision_score, SCORERS\n",
    "\n",
    "from xgboost.sklearn import XGBClassifier\n",
    "from lightgbm.sklearn import LGBMClassifier\n",
    "from sklearn.model_selection import GridSearchCV\n",
    "\n",
    "import warnings\n",
    "warnings.filterwarnings(\"ignore\")\n",
    "\n",
    "%matplotlib inline\n",
    "\n",
    "pd.set_option('display.max_colwidth', None)\n",
    "pd.options.display.max_rows = 999\n",
    "\n",
    "for dirname, _, filenames in os.walk('/kaggle/input'):\n",
    "    for filename in filenames:\n",
    "        print(os.path.join(dirname, filename))"
   ]
  },
  {
   "cell_type": "code",
   "execution_count": 2,
   "metadata": {
    "_cell_guid": "79c7e3d0-c299-4dcb-8224-4455121ee9b0",
    "_uuid": "d629ff2d2480ee46fbb7e2d37f6b5fab8052498a"
   },
   "outputs": [],
   "source": [
    "df_train = pd.read_csv(\"../input/student-shopee-code-league-marketing-analytics/train.csv\")\n",
    "df_test = pd.read_csv(\"../input/student-shopee-code-league-marketing-analytics/test.csv\")\n",
    "df_users = pd.read_csv(\"../input/student-shopee-code-league-marketing-analytics/users.csv\")"
   ]
  },
  {
   "cell_type": "code",
   "execution_count": 3,
   "metadata": {},
   "outputs": [],
   "source": [
    "df_train = df_train.fillna(-1)\n",
    "df_users = df_users.fillna(-1)\n",
    "df_test = df_test.fillna(-1)"
   ]
  },
  {
   "cell_type": "code",
   "execution_count": 4,
   "metadata": {},
   "outputs": [],
   "source": [
    "user_dict = {}\n",
    "for row in df_users.itertuples():\n",
    "    user_dict[row.user_id] = (row.attr_1,row.attr_2,row.attr_3,row.age,row.domain)"
   ]
  },
  {
   "cell_type": "code",
   "execution_count": 5,
   "metadata": {},
   "outputs": [],
   "source": [
    "def get_user_feature(user_id,i):\n",
    "    if user_id in user_dict:\n",
    "        return user_dict[user_id][i]\n",
    "    else:\n",
    "        return -2"
   ]
  },
  {
   "cell_type": "code",
   "execution_count": 6,
   "metadata": {},
   "outputs": [],
   "source": [
    "def fill_ints(data):\n",
    "    if isinstance(data,int):\n",
    "        return data\n",
    "    if data.isnumeric():\n",
    "        return data\n",
    "    else:\n",
    "        return -1"
   ]
  },
  {
   "cell_type": "code",
   "execution_count": 7,
   "metadata": {},
   "outputs": [],
   "source": [
    "def time_to_categorical_series(df,type=\"hour\"):\n",
    "    if type == \"hour\":\n",
    "        return df['date_time'].dt.hour.astype('category')\n",
    "    elif type == \"dayofweek\":\n",
    "        return df['date_time'].dt.dayofweek.astype('category')\n",
    "    elif type == \"month\":\n",
    "        return df['date_time'].dt.month.astype('category')\n",
    "    else:\n",
    "        return None\n",
    "    \n",
    "def time_to_categorical(df):\n",
    "    hour_series = time_to_categorical_series(df,type='hour')\n",
    "    dayofweek_series = time_to_categorical_series(df,type='dayofweek')\n",
    "    month_series = time_to_categorical_series(df,type='month')\n",
    "\n",
    "    df['hour'] = hour_series\n",
    "    df['dayofweek'] = dayofweek_series\n",
    "    df['month'] = month_series"
   ]
  },
  {
   "cell_type": "code",
   "execution_count": 8,
   "metadata": {},
   "outputs": [],
   "source": [
    "cat_features = ['country_code','hour','dayofweek','month','domain']\n",
    "numerical_features = [ 'subject_line_length',\n",
    "       'last_open_day', 'last_login_day', 'last_checkout_day',\n",
    "       'open_count_last_10_days', 'open_count_last_30_days',\n",
    "       'open_count_last_60_days', 'login_count_last_10_days',\n",
    "       'login_count_last_30_days', 'login_count_last_60_days',\n",
    "       'checkout_count_last_10_days', 'checkout_count_last_30_days',\n",
    "       'checkout_count_last_60_days','attr1', 'attr2',\n",
    "       'attr3', 'age']"
   ]
  },
  {
   "cell_type": "code",
   "execution_count": 9,
   "metadata": {},
   "outputs": [],
   "source": [
    "def make_df_features(df,train=None,encoder=None):\n",
    "    df['attr1'] = df['user_id'].apply(lambda x: get_user_feature(x,0))\n",
    "    df['attr2'] = df['user_id'].apply(lambda x: get_user_feature(x,1))\n",
    "    df['attr3'] = df['user_id'].apply(lambda x: get_user_feature(x,2))\n",
    "    df['age'] = df['user_id'].apply(lambda x: get_user_feature(x,3))\n",
    "    df['domain'] = df['user_id'].apply(lambda x: get_user_feature(x,4))\n",
    "    df['date_time'] = pd.to_datetime(df['grass_date'])\n",
    "    df['last_open_day'] = df['last_open_day'].apply(fill_ints)\n",
    "    df['last_login_day'] = df['last_login_day'].apply(fill_ints)\n",
    "    df['last_checkout_day'] = df['last_checkout_day'].apply(fill_ints)\n",
    "    time_to_categorical(df)\n",
    "    cat = df.loc[:,cat_features].values\n",
    "    if train:\n",
    "        encoder = OneHotEncoder(handle_unknown='ignore',sparse=False)\n",
    "        cat = encoder.fit_transform(cat).astype(np.float64)\n",
    "    else:\n",
    "        cat = encoder.transform(cat).astype(np.float64)\n",
    "    val = df.loc[:,numerical_features].values.astype(np.float64)\n",
    "    return np.concatenate([cat,val],axis=1),encoder"
   ]
  },
  {
   "cell_type": "code",
   "execution_count": 10,
   "metadata": {},
   "outputs": [],
   "source": [
    "train_features,encoder = make_df_features(df_train,True)\n",
    "train_labels = df_train['open_flag'].values\n",
    "\n",
    "test_features,_ = make_df_features(df_test,False,encoder=encoder)"
   ]
  },
  {
   "cell_type": "code",
   "execution_count": 11,
   "metadata": {},
   "outputs": [],
   "source": [
    "clf = LGBMClassifier(random_state=42)\n",
    "clf.fit(train_features,train_labels)\n",
    "predictions = clf.predict(test_features)"
   ]
  },
  {
   "cell_type": "code",
   "execution_count": 12,
   "metadata": {},
   "outputs": [],
   "source": [
    "df_test = df_test.drop([col for col in df_test.columns if col!='row_id'],axis=1)\n",
    "df_test['open_flag'] = predictions\n",
    "df_test.to_csv('sub.csv',index=False)"
   ]
  }
 ],
 "metadata": {
  "kernelspec": {
   "display_name": "Python 3",
   "language": "python",
   "name": "python3"
  },
  "language_info": {
   "codemirror_mode": {
    "name": "ipython",
    "version": 3
   },
   "file_extension": ".py",
   "mimetype": "text/x-python",
   "name": "python",
   "nbconvert_exporter": "python",
   "pygments_lexer": "ipython3",
   "version": "3.7.6"
  },
  "toc": {
   "base_numbering": 1,
   "nav_menu": {},
   "number_sections": true,
   "sideBar": true,
   "skip_h1_title": false,
   "title_cell": "Table of Contents",
   "title_sidebar": "Contents",
   "toc_cell": false,
   "toc_position": {},
   "toc_section_display": true,
   "toc_window_display": false
  }
 },
 "nbformat": 4,
 "nbformat_minor": 4
}
